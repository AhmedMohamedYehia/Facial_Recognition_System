{
 "cells": [
  {
   "cell_type": "code",
   "execution_count": 38,
   "id": "64017267",
   "metadata": {},
   "outputs": [],
   "source": [
    "import numpy as np\n",
    "import sys, os\n",
    "import matplotlib.image as mpimg\n",
    "import matplotlib.pyplot as plt\n",
    "from skimage.color import rgb2gray\n",
    "from skimage import measure\n",
    "import cv2\n",
    "from skimage import morphology\n",
    "from skimage.morphology import disk, square, dilation, erosion\n",
    "from skimage import data\n",
    "from skimage.feature import Cascade\n",
    "from PupilDetector import GradientIntersect\n",
    "from FaceAligner import FaceAligner\n",
    "import imutils"
   ]
  },
  {
   "cell_type": "code",
   "execution_count": 39,
   "id": "90194a8e",
   "metadata": {},
   "outputs": [],
   "source": [
    "kEyePercentTop = 25\n",
    "kEyePercentSide = 13\n",
    "kEyePercentHeight = 30\n",
    "kEyePercentWidth = 35"
   ]
  },
  {
   "cell_type": "code",
   "execution_count": 40,
   "id": "2b16be9b",
   "metadata": {},
   "outputs": [],
   "source": [
    "def getEyesCenter(face_BGR):\n",
    "    img_GRAY = cv2.cvtColor(face_BGR, cv2.COLOR_BGR2GRAY)\n",
    "    \n",
    "    eye_region_width = face.shape[0] * (kEyePercentWidth/100.0)\n",
    "    eye_region_height = face.shape[0] * (kEyePercentHeight/100.0)\n",
    "    eye_region_top = face.shape[1] * (kEyePercentTop/100.0)\n",
    "        \n",
    "    leftEyeRegion = face.shape[0]*(kEyePercentSide/100.0), eye_region_top, eye_region_width, eye_region_height\n",
    "    rightEyeRegion = face.shape[0] - eye_region_width - face.shape[0]*(kEyePercentSide/100.0), eye_region_top,eye_region_width,eye_region_height\n",
    "    \n",
    "    x1, y1, w1, h1 = (leftEyeRegion)\n",
    "    region = img_GRAY[int(y1) :int(y1) + int(h1) , int(x1) :int(x1) + int(w1)]\n",
    "    leftEyeCenter = gi.locate(region)\n",
    "    \n",
    "    x2, y2, w2, h2 = (rightEyeRegion)\n",
    "    region = img_GRAY[int(y2) :int(y2) + int(h2) , int(x2) :int(x2) + int(w2)]\n",
    "    rightEyeCenter = gi.locate(region)\n",
    "    #rightEyeCenter = np.asarray(rightEyeCenter, dtype=\"int\")\n",
    "    \n",
    "    return (int(leftEyeCenter[1])+int(x1) , int(leftEyeCenter[0])+int(y1)), (int(rightEyeCenter[1])+int(x2), int(rightEyeCenter[0])+int(y2))"
   ]
  },
  {
   "cell_type": "code",
   "execution_count": 41,
   "id": "091a27df",
   "metadata": {},
   "outputs": [],
   "source": [
    "haar_file = 'haarcascade_frontalface_default.xml'\n",
    "webcam = cv2.VideoCapture(0)\n",
    "face_cascade = cv2.CascadeClassifier(haar_file)\n",
    "cv2.namedWindow(\"After Alignment\", cv2.WINDOW_NORMAL)\n",
    "cv2.namedWindow(\"Before Alignment\", cv2.WINDOW_NORMAL)\n",
    "gi = GradientIntersect()\n",
    "leftEyeCenter = (0, 0)\n",
    "rightEyeCenter = (0, 0)\n",
    "leftEyeRegionStart = (0, 0)\n",
    "rightEyeRegionStart= (0, 0)\n",
    "face_rect = (0, 0, 0, 0)\n",
    "fa = FaceAligner(desiredFaceWidth=256)\n",
    "while True:\n",
    "    (_, img_BGR) = webcam.read()\n",
    "    img = img_BGR.copy()\n",
    "    \n",
    "    img_GRAY = cv2.cvtColor(img_BGR, cv2.COLOR_BGR2GRAY)\n",
    "    faces = face_cascade.detectMultiScale(img_GRAY, 1.3, 4)\n",
    "    \n",
    "    for (x, y, w, h) in faces:\n",
    "        face_rect = (x, y, w, h)\n",
    "\n",
    "        face = img_BGR[y :y + h , x :x + w ]\n",
    "        \n",
    "        face = cv2.resize(face, (256, 256))\n",
    "        (leftEyeCenter, rightEyeCenter) = getEyesCenter(face)\n",
    "        \n",
    "        #img_BGR = cv2.circle(img_BGR, (leftEyeCenter[0]+x, leftEyeCenter[1]+y), 1, (0,0,255), -1)\n",
    "        #img_BGR = cv2.circle(img_BGR, (rightEyeCenter[0]+x, rightEyeCenter[1]+y), 1, (0,0,255), -1)\n",
    "        \n",
    "        face = cv2.circle(face, (leftEyeCenter[0], leftEyeCenter[1]), 1, (0,0,255), -1)\n",
    "        face = cv2.circle(face, (rightEyeCenter[0], rightEyeCenter[1]), 1, (0,0,255), -1)\n",
    "        \n",
    "        faceAligned = fa.align(face, rightEyeCenter, leftEyeCenter)\n",
    "        \n",
    "    cv2.imshow('After Alignment',faceAligned)\n",
    "    cv2.imshow('Before Alignment',img_BGR)\n",
    "    key = cv2.waitKey(5)    \n",
    "    if key == 27:\n",
    "        break\n",
    "    \n",
    "cv2.destroyAllWindows()\n",
    "webcam.release()"
   ]
  }
 ],
 "metadata": {
  "kernelspec": {
   "display_name": "Python 3",
   "language": "python",
   "name": "python3"
  },
  "language_info": {
   "codemirror_mode": {
    "name": "ipython",
    "version": 3
   },
   "file_extension": ".py",
   "mimetype": "text/x-python",
   "name": "python",
   "nbconvert_exporter": "python",
   "pygments_lexer": "ipython3",
   "version": "3.8.8"
  }
 },
 "nbformat": 4,
 "nbformat_minor": 5
}
